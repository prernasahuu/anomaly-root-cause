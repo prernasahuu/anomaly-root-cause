{
  "cells": [
    {
      "cell_type": "markdown",
      "metadata": {
        "id": "view-in-github",
        "colab_type": "text"
      },
      "source": [
        "<a href=\"https://colab.research.google.com/github/prernasahuu/anomaly-root-cause/blob/main/anomaly.ipynb\" target=\"_parent\"><img src=\"https://colab.research.google.com/assets/colab-badge.svg\" alt=\"Open In Colab\"/></a>"
      ]
    },
    {
      "cell_type": "code",
      "execution_count": 2,
      "metadata": {
        "id": "aODndTjdjNuf"
      },
      "outputs": [],
      "source": [
        "import pandas as pd\n",
        "import matplotlib.pyplot as plt\n",
        "import os"
      ]
    },
    {
      "cell_type": "code",
      "execution_count": null,
      "metadata": {
        "id": "Sx0NcxkWjSOu"
      },
      "outputs": [],
      "source": [
        "# Clone the repository containing the dataset\n",
        "!git clone https://github.com/ai4sees/Intern-Assignment.git"
      ]
    },
    {
      "cell_type": "code",
      "execution_count": null,
      "metadata": {
        "id": "mOH6DKNYjVZT"
      },
      "outputs": [],
      "source": [
        "# Navigate to the directory containing the dataset\n",
        "%cd Intern-Assignment"
      ]
    },
    {
      "cell_type": "code",
      "source": [
        "!unzip /content/Intern-Assignment/files.zip"
      ],
      "metadata": {
        "id": "Lm5GelbIVNbX"
      },
      "execution_count": null,
      "outputs": []
    },
    {
      "cell_type": "code",
      "execution_count": 8,
      "metadata": {
        "id": "Xx9xpwoynPdv"
      },
      "outputs": [],
      "source": [
        "extract_path = \"/content/Intern-Assignment/files\""
      ]
    },
    {
      "cell_type": "code",
      "execution_count": null,
      "metadata": {
        "id": "HBFU0TSojXGx"
      },
      "outputs": [],
      "source": [
        "#  Read test and label files\n",
        "def read_data(data_file, label_file):\n",
        "    data = pd.read_csv(os.path.join(extract_path, data_file))\n",
        "    labels = pd.read_csv(os.path.join(extract_path, label_file), header=None, names=['timestamp'])\n",
        "    return data, labels\n",
        "test_data, test_label = read_data(\"test.csv\", \"test_label.csv\")\n",
        "smap_test_data, smap_test_label = read_data(\"smap_test.csv\", \"smap_test_label.csv\")\n",
        "msl_test_data, msl_test_label = read_data(\"msl_test.csv\", \"msl_test_label.csv\")\n",
        "psm_test_data, psm_test_label = read_data(\"psm_test.csv\", \"psm_test_label.csv\")\n",
        "print(\"Test data shape:\", test_data.shape)\n",
        "print(\"Test labels shape:\", test_label.shape)\n",
        "print(\"SMAP test data shape:\", smap_test_data.shape)\n",
        "print(\"SMAP test labels shape:\", smap_test_label.shape)\n",
        "print(\"MSL test data shape:\", msl_test_data.shape)\n",
        "print(\"MSL test labels shape:\", msl_test_label.shape)\n",
        "print(\"PSM test data shape:\", psm_test_data.shape)\n",
        "print(\"PSM test labels shape:\", psm_test_label.shape)\n"
      ]
    },
    {
      "cell_type": "code",
      "execution_count": null,
      "metadata": {
        "id": "XKncSOBxjZTN"
      },
      "outputs": [],
      "source": [
        "# Draw time series plots with anomaly regions.\n",
        "def plot_with_anomaly(data, labels):\n",
        "    plt.figure(figsize=(15, 5))\n",
        "    plt.plot(data.index, data.iloc[:, 0], label='Data')\n",
        "    plt.scatter(labels['timestamp'], data.loc[labels['timestamp'], data.columns[0]], color='red', label='Anomaly')\n",
        "    plt.xlabel('Timestamp')\n",
        "    plt.ylabel('Value')\n",
        "    plt.title('Time Series with Anomaly Regions')\n",
        "    plt.legend()\n",
        "    plt.show()\n",
        "data, labels = read_data(\"test.csv\", \"test_label.csv\")\n",
        "plot_with_anomaly(data, labels)"
      ]
    },
    {
      "cell_type": "code",
      "source": [
        "#Perform EDA and find out root cause.\n",
        "data, labels = read_data(\"test.csv\", \"test_label.csv\")\n",
        "perform_eda(data)\n",
        "# Find root cause\n",
        "root_cause_variables = find_root_cause(data, labels)\n",
        "print(\"Root cause variables:\", root_cause_variables)\n",
        "# Plot time series with anomaly regions for the root cause variable\n",
        "if \"key\" in root_cause_variables and \"key\" in data:\n",
        "    plot_with_anomaly(data[\"key\"], labels[\"key\"])\n",
        "else:\n",
        "    print(\"Root cause variable not found in data\")"
      ],
      "metadata": {
        "id": "m8XTg6UQarCT"
      },
      "execution_count": null,
      "outputs": []
    },
    {
      "cell_type": "code",
      "source": [
        "#Find out the variables which are the root cause for the anomaly\n",
        "data, labels = read_data(\"test.csv\", \"test_label.csv\")\n",
        "root_cause_variables = find_root_cause(data, labels)\n",
        "print(\"Root cause variables:\", root_cause_variables)\n"
      ],
      "metadata": {
        "colab": {
          "base_uri": "https://localhost:8080/"
        },
        "id": "s-rSD8xrXapb",
        "outputId": "99272192-af7c-4e3d-f104-29c011f3f4cd"
      },
      "execution_count": 33,
      "outputs": [
        {
          "output_type": "stream",
          "name": "stdout",
          "text": [
            "Root cause variables: {'3', '16', '12', '30', '10', '25', '1', '20', '24', '21', '19', '4', '6', '18', '34', '33', '0', '22', '29', '2', '27', '35', '5', '31', '23'}\n"
          ]
        }
      ]
    },
    {
      "cell_type": "code",
      "source": [],
      "metadata": {
        "id": "wKWDrYMnbFJy"
      },
      "execution_count": null,
      "outputs": []
    }
  ],
  "metadata": {
    "accelerator": "GPU",
    "colab": {
      "gpuType": "T4",
      "provenance": [],
      "authorship_tag": "ABX9TyMGdRdWHY+lWd//et4yw2lG",
      "include_colab_link": true
    },
    "kernelspec": {
      "display_name": "Python 3",
      "name": "python3"
    },
    "language_info": {
      "name": "python"
    }
  },
  "nbformat": 4,
  "nbformat_minor": 0
}